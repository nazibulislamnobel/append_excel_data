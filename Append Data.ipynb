{
 "cells": [
  {
   "cell_type": "code",
   "execution_count": 2,
   "id": "2a7aa4a9",
   "metadata": {},
   "outputs": [],
   "source": [
    "import pandas as pd"
   ]
  },
  {
   "cell_type": "code",
   "execution_count": null,
   "id": "74753fce",
   "metadata": {},
   "outputs": [],
   "source": [
    "df_source = pd.read_excel('C:\\\\Nobel\\\\aaa.xlsx')"
   ]
  },
  {
   "cell_type": "code",
   "execution_count": null,
   "id": "b175674f",
   "metadata": {},
   "outputs": [],
   "source": [
    "df_destination = pd.read_excel('C:\\\\Nobel\\\\14AugStock16.xlsx')"
   ]
  },
  {
   "cell_type": "code",
   "execution_count": null,
   "id": "b4ab1f2a",
   "metadata": {},
   "outputs": [],
   "source": [
    "df_combined = df_destination.append(df_source, ignore_index=True)"
   ]
  },
  {
   "cell_type": "code",
   "execution_count": null,
   "id": "1675b4f1",
   "metadata": {},
   "outputs": [],
   "source": [
    "df_combined.to_excel('C:\\\\Nobel\\\\Up14AugStock16.xlsx', index=False)"
   ]
  }
 ],
 "metadata": {
  "kernelspec": {
   "display_name": "Python 3 (ipykernel)",
   "language": "python",
   "name": "python3"
  },
  "language_info": {
   "codemirror_mode": {
    "name": "ipython",
    "version": 3
   },
   "file_extension": ".py",
   "mimetype": "text/x-python",
   "name": "python",
   "nbconvert_exporter": "python",
   "pygments_lexer": "ipython3",
   "version": "3.10.9"
  }
 },
 "nbformat": 4,
 "nbformat_minor": 5
}
